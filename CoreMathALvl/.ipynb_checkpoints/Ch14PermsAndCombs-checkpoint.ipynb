{
 "cells": [
  {
   "cell_type": "markdown",
   "metadata": {},
   "source": [
    "# Chapter 14 Permuations and Combinations\n",
    "\n",
    "> A permutation is an ordered arrangement of a number of items\n",
    "\n",
    "> A combination is an unordered selection of a number of items from a given set"
   ]
  },
  {
   "cell_type": "markdown",
   "metadata": {},
   "source": [
    "## Permutations\n",
    "\n",
    "- number of elements in a set?\n",
    "- result size ?\n",
    "- can element be used more then once?"
   ]
  },
  {
   "cell_type": "code",
   "execution_count": 24,
   "metadata": {},
   "outputs": [
    {
     "name": "stdout",
     "output_type": "stream",
     "text": [
      "3\n",
      "2\n",
      "6\n",
      "27.0\n"
     ]
    }
   ],
   "source": [
    "import math\n",
    "\n",
    "def limitFactorial(init, limit):\n",
    "    result = 1\n",
    "    for index in range(init, init - limit, -1):\n",
    "        result *= index\n",
    "    return result\n",
    "\n",
    "def permutations(numOfElements, resultSetSize, useElementOnce):\n",
    "    if useElementOnce:\n",
    "        return limitFactorial(numOfElements, resultSetSize)\n",
    "    else:\n",
    "        return math.pow(numOfElements, numOfElements)\n",
    "    \n",
    "print(permutations(3, 2, True))\n",
    "print(permutations(3, 2, False))"
   ]
  },
  {
   "cell_type": "markdown",
   "metadata": {},
   "source": [
    "a b c\n",
    "a c b\n",
    "b a c\n",
    "b c a\n",
    "c a b \n",
    "c b a"
   ]
  },
  {
   "cell_type": "code",
   "execution_count": null,
   "metadata": {},
   "outputs": [],
   "source": []
  }
 ],
 "metadata": {
  "kernelspec": {
   "display_name": "Python 3",
   "language": "python",
   "name": "python3"
  },
  "language_info": {
   "codemirror_mode": {
    "name": "ipython",
    "version": 3
   },
   "file_extension": ".py",
   "mimetype": "text/x-python",
   "name": "python",
   "nbconvert_exporter": "python",
   "pygments_lexer": "ipython3",
   "version": "3.6.9"
  }
 },
 "nbformat": 4,
 "nbformat_minor": 4
}
